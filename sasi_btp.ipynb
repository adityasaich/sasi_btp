{
  "nbformat": 4,
  "nbformat_minor": 0,
  "metadata": {
    "colab": {
      "name": "sasi_btp.ipynb",
      "provenance": [],
      "collapsed_sections": [],
      "authorship_tag": "ABX9TyPjDaElc3ivZ5Jn44JsRDSB",
      "include_colab_link": true
    },
    "kernelspec": {
      "name": "python3",
      "display_name": "Python 3"
    },
    "language_info": {
      "name": "python"
    }
  },
  "cells": [
    {
      "cell_type": "markdown",
      "metadata": {
        "id": "view-in-github",
        "colab_type": "text"
      },
      "source": [
        "<a href=\"https://colab.research.google.com/github/adityasaich/sasi_btp/blob/main/sasi_btp.ipynb\" target=\"_parent\"><img src=\"https://colab.research.google.com/assets/colab-badge.svg\" alt=\"Open In Colab\"/></a>"
      ]
    },
    {
      "cell_type": "code",
      "metadata": {
        "id": "yU10kfw836GQ"
      },
      "source": [
        "import pandas as pd\n",
        "import numpy as np"
      ],
      "execution_count": 16,
      "outputs": []
    },
    {
      "cell_type": "code",
      "metadata": {
        "id": "HnZSvGkM4KLP"
      },
      "source": [
        "!pip install -U -q PyDrive\n",
        "from pydrive.auth import GoogleAuth\n",
        "from pydrive.drive import GoogleDrive\n",
        "from google.colab import auth\n",
        "from oauth2client.client import GoogleCredentials\n",
        "# Authenticate and create the PyDrive client.\n",
        "auth.authenticate_user()\n",
        "gauth = GoogleAuth()\n",
        "gauth.credentials = GoogleCredentials.get_application_default()\n",
        "drive = GoogleDrive(gauth)"
      ],
      "execution_count": 17,
      "outputs": []
    },
    {
      "cell_type": "code",
      "metadata": {
        "id": "-cay1gNP4qgZ"
      },
      "source": [
        "id = '18xGNPuvbXGSN97g0CzI1tIBl81zJrToF'"
      ],
      "execution_count": 18,
      "outputs": []
    },
    {
      "cell_type": "code",
      "metadata": {
        "id": "pbxReImg4oXL"
      },
      "source": [
        "downloaded = drive.CreateFile({'id':id}) \n",
        "downloaded.GetContentFile('dataset.csv')  \n",
        "df_input = pd.read_csv('dataset.csv')\n",
        "#df_input = df_input.sample(n=50000)"
      ],
      "execution_count": 25,
      "outputs": []
    },
    {
      "cell_type": "code",
      "metadata": {
        "id": "tR50-2tVF7hc"
      },
      "source": [
        "#url = 'https://raw.githubusercontent.com/adityasaich/sasi_btp/main/dataworld_set.csv?token=ALPKPQCX3COGEIP65QDO2V3BR5QT6'\n",
        "#df_input = pd.read_csv(url)"
      ],
      "execution_count": null,
      "outputs": []
    },
    {
      "cell_type": "code",
      "metadata": {
        "id": "CoVLRIQIRUk7"
      },
      "source": [
        "def deviationTransform(arr):\n",
        "  m = np.mean(arr)\n",
        "  d = np.std(arr)\n",
        "  return [m,d]\n",
        "def minMaxTransform(arr):\n",
        "  min = np.min(arr)\n",
        "  max = np.max(arr)\n",
        "  return [min,max-min]"
      ],
      "execution_count": 20,
      "outputs": []
    },
    {
      "cell_type": "code",
      "metadata": {
        "id": "6eosEdO5wVqD",
        "colab": {
          "base_uri": "https://localhost:8080/"
        },
        "outputId": "3a21180e-8137-4996-d047-48c14a6f4ea3"
      },
      "source": [
        "#pre-processing\n",
        "from sklearn.preprocessing import LabelEncoder\n",
        "from sklearn.preprocessing import MinMaxScaler\n",
        "df_input = df_input[df_input['Area'] > 0 ]\n",
        "df_input = df_input[df_input['Production'] > 0 ]\n",
        "df_input[\"ProductionPerArea\"] = ((df_input[\"Production\"])/(df_input[\"Area\"]))\n",
        "#dropping columns which are not used\n",
        "df_input = df_input.drop(columns=['District_Name','Crop_Year','Area','Production'])\n",
        "#replace empty strings with nan\n",
        "df_input = df_input.replace(r'^\\s*$', np.NaN, regex=True)\n",
        "#drop null values\n",
        "df_input = df_input.dropna()\n"
      ],
      "execution_count": 26,
      "outputs": [
        {
          "output_type": "stream",
          "name": "stderr",
          "text": [
            "/usr/local/lib/python3.7/dist-packages/ipykernel_launcher.py:6: SettingWithCopyWarning: \n",
            "A value is trying to be set on a copy of a slice from a DataFrame.\n",
            "Try using .loc[row_indexer,col_indexer] = value instead\n",
            "\n",
            "See the caveats in the documentation: https://pandas.pydata.org/pandas-docs/stable/user_guide/indexing.html#returning-a-view-versus-a-copy\n",
            "  \n"
          ]
        }
      ]
    },
    {
      "cell_type": "code",
      "metadata": {
        "colab": {
          "base_uri": "https://localhost:8080/",
          "height": 682
        },
        "id": "JlfcyeRW4m4a",
        "outputId": "325f2e0c-ebf7-43d9-cfc8-b9ddbc6a7cc6"
      },
      "source": [
        "x = df_input['ProductionPerArea']\n",
        "print(x.describe())\n",
        "\n",
        "import matplotlib.pyplot as plt\n",
        "plt.style.use('ggplot')\n",
        "fig, ax = plt.subplots()\n",
        "ax.boxplot((x), vert=False, showmeans=True, meanline=True,\n",
        "           labels=('x'), patch_artist=True,\n",
        "           medianprops={'linewidth': 2, 'color': 'purple'},\n",
        "           meanprops={'linewidth': 2, 'color': 'red'})\n",
        "plt.show()\n",
        "hist, bin_edges = np.histogram(x, bins=100)\n",
        "fig, ax = plt.subplots()\n",
        "ax.hist(x, bin_edges, cumulative=False)\n",
        "ax.set_xlabel('x')\n",
        "ax.set_ylabel('Frequency')\n",
        "plt.show()"
      ],
      "execution_count": 27,
      "outputs": [
        {
          "output_type": "stream",
          "name": "stdout",
          "text": [
            "count    238838.000000\n",
            "mean         42.263407\n",
            "std         823.564866\n",
            "min           0.000003\n",
            "25%           0.532242\n",
            "50%           1.000000\n",
            "75%           2.400000\n",
            "max       88000.000000\n",
            "Name: ProductionPerArea, dtype: float64\n"
          ]
        },
        {
          "output_type": "display_data",
          "data": {
            "image/png": "[encoded data removed]",
            "text/plain": [
              "<Figure size 432x288 with 1 Axes>"
            ]
          },
          "metadata": {}
        },
        {
          "output_type": "display_data",
          "data": {
            "image/png": "[encoded data removed]",
            "text/plain": [
              "<Figure size 432x288 with 1 Axes>"
            ]
          },
          "metadata": {}
        }
      ]
    },
    {
      "cell_type": "code",
      "metadata": {
        "id": "vCHx2bow4jXP"
      },
      "source": [
        "categorical_columns = ['State_Name', 'Crop' ,'Season']\n",
        "#label encoder dict\n",
        "labels_dict = {}\n",
        "#scaling dict\n",
        "scaling_dict = {}\n",
        "for column in categorical_columns:\n",
        "  le = LabelEncoder()\n",
        "  le.fit(df_input[column])\n",
        "  df_input[column] = le.transform(df_input[column])\n",
        "  labels_dict[column] = le.classes_\n",
        "  scaling_params = minMaxTransform(np.array(df_input[column]))\n",
        "  df_input[column] = (df_input[column] - scaling_params[0])/scaling_params[1]\n",
        "  scaling_dict[column] = scaling_params\n",
        "scaling_params = deviationTransform(np.array(df_input['ProductionPerArea']))\n",
        "df_input['ProductionPerArea'] = (df_input['ProductionPerArea'] - scaling_params[0])/scaling_params[1]\n",
        "scaling_dict['ProductionPerArea'] = scaling_params"
      ],
      "execution_count": 28,
      "outputs": []
    },
    {
      "cell_type": "code",
      "metadata": {
        "colab": {
          "base_uri": "https://localhost:8080/"
        },
        "id": "HhLSV05ibYEp",
        "outputId": "bca06528-b53e-4b95-fc63-3ac4375faf90"
      },
      "source": [
        "scaling_dict"
      ],
      "execution_count": 29,
      "outputs": [
        {
          "output_type": "execute_result",
          "data": {
            "text/plain": [
              "{'Crop': [0, 104],\n",
              " 'ProductionPerArea': [42.26340712371502, 823.5631416601492],\n",
              " 'Season': [0, 5],\n",
              " 'State_Name': [0, 32]}"
            ]
          },
          "metadata": {},
          "execution_count": 29
        }
      ]
    },
    {
      "cell_type": "code",
      "metadata": {
        "colab": {
          "base_uri": "https://localhost:8080/"
        },
        "id": "zPW9kPllZttA",
        "outputId": "4388f085-db23-4e81-d8b3-f891c4448370"
      },
      "source": [
        "from sklearn.model_selection import train_test_split\n",
        "df_small = df_input\n",
        "df_small.columns.name = None\n",
        "df=df_small\n",
        "x_train, x_test, y_train, y_test = train_test_split(df.iloc[:,:-1], df.iloc[:,-1], test_size=0.33, random_state=42)\n",
        "print(x_train,y_train)"
      ],
      "execution_count": 30,
      "outputs": [
        {
          "output_type": "stream",
          "name": "stdout",
          "text": [
            "        State_Name  Season      Crop\n",
            "190852     0.84375     0.2  0.836538\n",
            "16928      0.09375     0.4  0.519231\n",
            "158821     0.68750     1.0  0.750000\n",
            "15637      0.09375     0.6  0.769231\n",
            "37586      0.12500     0.2  0.817308\n",
            "...            ...     ...       ...\n",
            "124415     0.50000     0.8  0.269231\n",
            "107164     0.50000     0.2  0.769231\n",
            "136701     0.53125     0.2  0.557692\n",
            "151694     0.68750     0.6  0.836538\n",
            "126573     0.53125     0.2  0.500000\n",
            "\n",
            "[160021 rows x 3 columns] 190852   -0.050897\n",
            "16928    -0.050778\n",
            "158821   -0.051122\n",
            "15637    -0.050392\n",
            "37586    -0.046821\n",
            "            ...   \n",
            "124415   -0.050978\n",
            "107164   -0.050662\n",
            "136701   -0.050971\n",
            "151694   -0.051104\n",
            "126573   -0.048287\n",
            "Name: ProductionPerArea, Length: 160021, dtype: float64\n"
          ]
        }
      ]
    },
    {
      "cell_type": "code",
      "metadata": {
        "id": "rLIV-y_raTsL"
      },
      "source": [
        "from sklearn.metrics import mean_squared_error\n",
        "def classify(clf,x_train,x_test,y_train,y_test):\n",
        "  clf.fit(x_train,y_train)\n",
        "  y_pred = clf.predict(x_test)\n",
        "  print(y_pred)\n",
        "  y_train_pred = clf.predict(x_train)\n",
        "  print(mean_squared_error(y_train, y_train_pred))\n",
        "  print(mean_squared_error(y_test, y_pred))\n",
        "  print(y_pred)\n",
        "  print(y_test)"
      ],
      "execution_count": 31,
      "outputs": []
    },
    {
      "cell_type": "code",
      "metadata": {
        "id": "rtwDQcE0dECz",
        "colab": {
          "base_uri": "https://localhost:8080/"
        },
        "outputId": "f3a6f0d0-97e2-4501-cfa8-e3cd228d2d0a"
      },
      "source": [
        "#using kernel ridge crashing with ram limit excedded\n",
        "from sklearn.kernel_ridge import KernelRidge\n",
        "krr_clf = KernelRidge(alpha=1.0)\n",
        "print(\"\\t\\t\\t kernel-ridge classifier\")\n",
        "classify(krr_clf,x_train,x_test,y_train,y_test)"
      ],
      "execution_count": null,
      "outputs": [
        {
          "output_type": "stream",
          "name": "stdout",
          "text": [
            "\t\t\t kernel-ridge classifier\n"
          ]
        }
      ]
    },
    {
      "cell_type": "code",
      "metadata": {
        "id": "UUFesFqCbCFo",
        "colab": {
          "base_uri": "https://localhost:8080/"
        },
        "outputId": "9e02d5f1-8c88-4a33-b566-4d6d7b712cb1"
      },
      "source": [
        "from sklearn.ensemble import RandomForestRegressor\n",
        "regresser = RandomForestRegressor(n_estimators = 10 ,random_state = 0)\n",
        "print(\"\\t\\t\\t random-forest classifier\")\n",
        "classify(regresser,x_train,x_test,y_train,y_test)"
      ],
      "execution_count": 32,
      "outputs": [
        {
          "output_type": "stream",
          "name": "stdout",
          "text": [
            "\t\t\t random-forest classifier\n",
            "[ 0.00361644 -0.05050501 -0.04374779 ... -0.05067865 -0.02702237\n",
            " -0.04762243]\n",
            "0.7278192223578155\n",
            "0.41832777322236697\n",
            "[ 0.00361644 -0.05050501 -0.04374779 ... -0.05067865 -0.02702237\n",
            " -0.04762243]\n",
            "41416     0.000848\n",
            "183710   -0.050528\n",
            "71982    -0.050060\n",
            "125632   -0.049879\n",
            "180040   -0.044477\n",
            "            ...   \n",
            "12046    -0.050057\n",
            "141176   -0.049323\n",
            "192436   -0.050514\n",
            "145546   -0.026729\n",
            "58122    -0.047502\n",
            "Name: ProductionPerArea, Length: 78817, dtype: float64\n"
          ]
        }
      ]
    },
    {
      "cell_type": "code",
      "metadata": {
        "colab": {
          "base_uri": "https://localhost:8080/"
        },
        "id": "EA5ikFezrC8K",
        "outputId": "0b51808e-024a-4524-d198-2f29e7ea6b4e"
      },
      "source": [
        "print(labels_dict)\n",
        "print(scaling_dict)"
      ],
      "execution_count": 34,
      "outputs": [
        {
          "output_type": "stream",
          "name": "stdout",
          "text": [
            "{'State_Name': array(['Andaman and Nicobar Islands', 'Andhra Pradesh',\n",
            "       'Arunachal Pradesh', 'Assam', 'Bihar', 'Chandigarh',\n",
            "       'Chhattisgarh', 'Dadra and Nagar Haveli', 'Goa', 'Gujarat',\n",
            "       'Haryana', 'Himachal Pradesh', 'Jammu and Kashmir ', 'Jharkhand',\n",
            "       'Karnataka', 'Kerala', 'Madhya Pradesh', 'Maharashtra', 'Manipur',\n",
            "       'Meghalaya', 'Mizoram', 'Nagaland', 'Odisha', 'Puducherry',\n",
            "       'Punjab', 'Rajasthan', 'Sikkim', 'Tamil Nadu', 'Telangana ',\n",
            "       'Tripura', 'Uttar Pradesh', 'Uttarakhand', 'West Bengal'],\n",
            "      dtype=object), 'Crop': array(['Arcanut (Processed)', 'Arecanut', 'Arhar/Tur', 'Atcanut (Raw)',\n",
            "       'Bajra', 'Banana', 'Barley', 'Bean', 'Beans & Mutter(Vegetable)',\n",
            "       'Bhindi', 'Bitter Gourd', 'Black pepper', 'Blackgram',\n",
            "       'Bottle Gourd', 'Brinjal', 'Cabbage', 'Cardamom', 'Carrot',\n",
            "       'Cashewnut', 'Cashewnut Processed', 'Cashewnut Raw', 'Castor seed',\n",
            "       'Cauliflower', 'Citrus Fruit', 'Coconut ', 'Coffee', 'Colocosia',\n",
            "       'Cond-spcs other', 'Coriander', 'Cotton(lint)', 'Cowpea(Lobia)',\n",
            "       'Drum Stick', 'Dry chillies', 'Dry ginger', 'Garlic', 'Ginger',\n",
            "       'Gram', 'Grapes', 'Groundnut', 'Guar seed', 'Horse-gram',\n",
            "       'Jack Fruit', 'Jobster', 'Jowar', 'Jute', 'Jute & mesta', 'Kapas',\n",
            "       'Khesari', 'Korra', 'Lemon', 'Lentil', 'Linseed', 'Maize', 'Mango',\n",
            "       'Masoor', 'Mesta', 'Moong(Green Gram)', 'Moth', 'Niger seed',\n",
            "       'Oilseeds total', 'Onion', 'Orange', 'Other  Rabi pulses',\n",
            "       'Other Cereals & Millets', 'Other Fresh Fruits',\n",
            "       'Other Kharif pulses', 'Other Vegetables', 'Paddy', 'Papaya',\n",
            "       'Peas & beans (Pulses)', 'Perilla', 'Pineapple', 'Pome Fruit',\n",
            "       'Pome Granet', 'Potato', 'Pulses total', 'Ragi', 'Rajmash Kholar',\n",
            "       'Rapeseed &Mustard', 'Redish', 'Rice', 'Ricebean (nagadal)',\n",
            "       'Rubber', 'Safflower', 'Samai', 'Sannhamp', 'Sapota', 'Sesamum',\n",
            "       'Small millets', 'Soyabean', 'Sugarcane', 'Sunflower',\n",
            "       'Sweet potato', 'Tapioca', 'Tea', 'Tobacco', 'Tomato',\n",
            "       'Total foodgrain', 'Turmeric', 'Turnip', 'Urad', 'Varagu', 'Wheat',\n",
            "       'other misc. pulses', 'other oilseeds'], dtype=object), 'Season': array(['Autumn     ', 'Kharif     ', 'Rabi       ', 'Summer     ',\n",
            "       'Whole Year ', 'Winter     '], dtype=object)}\n",
            "{'State_Name': [0, 32], 'Crop': [0, 104], 'Season': [0, 5], 'ProductionPerArea': [42.26340712371502, 823.5631416601492]}\n"
          ]
        }
      ]
    }
  ]
}