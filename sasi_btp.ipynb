{
  "nbformat": 4,
  "nbformat_minor": 0,
  "metadata": {
    "colab": {
      "name": "sasi_btp.ipynb",
      "provenance": [],
      "collapsed_sections": [],
      "authorship_tag": "ABX9TyOyaOjD8OBzpP3j8+RpjJfD",
      "include_colab_link": true
    },
    "kernelspec": {
      "name": "python3",
      "display_name": "Python 3"
    },
    "language_info": {
      "name": "python"
    }
  },
  "cells": [
    {
      "cell_type": "markdown",
      "metadata": {
        "id": "view-in-github",
        "colab_type": "text"
      },
      "source": [
        "<a href=\"https://colab.research.google.com/github/adityasaich/sasi_btp/blob/main/sasi_btp.ipynb\" target=\"_parent\"><img src=\"https://colab.research.google.com/assets/colab-badge.svg\" alt=\"Open In Colab\"/></a>"
      ]
    },
    {
      "cell_type": "code",
      "metadata": {
        "id": "yU10kfw836GQ"
      },
      "source": [
        "import pandas as pd\n",
        "import numpy as np"
      ],
      "execution_count": 1,
      "outputs": []
    },
    {
      "cell_type": "code",
      "metadata": {
        "id": "HnZSvGkM4KLP"
      },
      "source": [
        "!pip install -U -q PyDrive\n",
        "from pydrive.auth import GoogleAuth\n",
        "from pydrive.drive import GoogleDrive\n",
        "from google.colab import auth\n",
        "from oauth2client.client import GoogleCredentials\n",
        "# Authenticate and create the PyDrive client.\n",
        "auth.authenticate_user()\n",
        "gauth = GoogleAuth()\n",
        "gauth.credentials = GoogleCredentials.get_application_default()\n",
        "drive = GoogleDrive(gauth)"
      ],
      "execution_count": 2,
      "outputs": []
    },
    {
      "cell_type": "code",
      "metadata": {
        "id": "-cay1gNP4qgZ"
      },
      "source": [
        "id = '18xGNPuvbXGSN97g0CzI1tIBl81zJrToF'"
      ],
      "execution_count": 3,
      "outputs": []
    },
    {
      "cell_type": "code",
      "metadata": {
        "id": "pbxReImg4oXL"
      },
      "source": [
        "downloaded = drive.CreateFile({'id':id}) \n",
        "downloaded.GetContentFile('dataset.csv')  \n",
        "df_input = pd.read_csv('dataset.csv')\n",
        "#df_input = df_input.sample(n=50000)"
      ],
      "execution_count": 27,
      "outputs": []
    },
    {
      "cell_type": "code",
      "metadata": {
        "id": "tR50-2tVF7hc"
      },
      "source": [
        "#url = 'https://raw.githubusercontent.com/adityasaich/sasi_btp/main/dataworld_set.csv?token=ALPKPQCX3COGEIP65QDO2V3BR5QT6'\n",
        "#df_input = pd.read_csv(url)"
      ],
      "execution_count": null,
      "outputs": []
    },
    {
      "cell_type": "code",
      "metadata": {
        "id": "CoVLRIQIRUk7"
      },
      "source": [
        "def deviationTransform(arr):\n",
        "  m = np.mean(arr)\n",
        "  d = np.std(arr)\n",
        "  return [0,d]\n",
        "def minMaxTransform(arr):\n",
        "  min = np.min(arr)\n",
        "  max = np.max(arr)\n",
        "  return [min,max-min]"
      ],
      "execution_count": 28,
      "outputs": []
    },
    {
      "cell_type": "code",
      "metadata": {
        "id": "6eosEdO5wVqD"
      },
      "source": [
        "#pre-processing\n",
        "from sklearn.preprocessing import LabelEncoder\n",
        "from sklearn.preprocessing import MinMaxScaler\n",
        "df_input = df_input[df_input['Area'] > 0 ]\n",
        "df_input = df_input[df_input['Production'] > 0 ]\n",
        "df_input[\"ProductionPerArea\"] = ((df_input[\"Production\"])/(df_input[\"Area\"]))\n",
        "#dropping columns which are not used\n",
        "df_input = df_input.drop(columns=['State_Name','Area','Production'])\n",
        "#replace empty strings with nan\n",
        "df_input = df_input.replace(r'^\\s*$', np.NaN, regex=True)\n",
        "#drop null values\n",
        "df_input = df_input.dropna()\n"
      ],
      "execution_count": 29,
      "outputs": []
    },
    {
      "cell_type": "code",
      "metadata": {
        "id": "JlfcyeRW4m4a",
        "colab": {
          "base_uri": "https://localhost:8080/",
          "height": 686
        },
        "outputId": "41e55031-54bd-4bb0-d16c-0c27a087ff4c"
      },
      "source": [
        "x = df_input['ProductionPerArea']\n",
        "print(x.describe())\n",
        "\n",
        "import matplotlib.pyplot as plt\n",
        "plt.style.use('ggplot')\n",
        "fig, ax = plt.subplots()\n",
        "ax.boxplot((x), vert=False, showmeans=True, meanline=True,\n",
        "           labels=('x'), patch_artist=True,\n",
        "           medianprops={'linewidth': 2, 'color': 'purple'},\n",
        "           meanprops={'linewidth': 2, 'color': 'red'})\n",
        "plt.show()\n",
        "hist, bin_edges = np.histogram(x, bins=20)\n",
        "fig, ax = plt.subplots()\n",
        "ax.hist(x, bin_edges, cumulative=False)\n",
        "ax.set_xlabel('x')\n",
        "ax.set_ylabel('Frequency')\n",
        "plt.show()"
      ],
      "execution_count": 7,
      "outputs": [
        {
          "output_type": "stream",
          "name": "stdout",
          "text": [
            "count    238838.000000\n",
            "mean         42.263407\n",
            "std         823.564866\n",
            "min           0.000003\n",
            "25%           0.532242\n",
            "50%           1.000000\n",
            "75%           2.400000\n",
            "max       88000.000000\n",
            "Name: ProductionPerArea, dtype: float64\n"
          ]
        },
        {
          "output_type": "display_data",
          "data": {
            "image/png": "[encoded data removed]",
            "text/plain": [
              "<Figure size 432x288 with 1 Axes>"
            ]
          },
          "metadata": {}
        },
        {
          "output_type": "display_data",
          "data": {
            "image/png": "[encoded data removed]",
            "text/plain": [
              "<Figure size 432x288 with 1 Axes>"
            ]
          },
          "metadata": {}
        }
      ]
    },
    {
      "cell_type": "code",
      "metadata": {
        "id": "vCHx2bow4jXP"
      },
      "source": [
        "categorical_columns = ['District_Name', 'Crop' ,'Season']\n",
        "#label encoder dict\n",
        "labels_dict = {}\n",
        "#scaling dict\n",
        "scaling_dict = {}\n",
        "for column in categorical_columns:\n",
        "  le = LabelEncoder()\n",
        "  le.fit(df_input[column])\n",
        "  df_input[column] = le.transform(df_input[column])\n",
        "  labels_dict[column] = list(le.classes_)\n",
        "  scaling_params = minMaxTransform(np.array(df_input[column]))\n",
        "  df_input[column] = (df_input[column] - scaling_params[0])/scaling_params[1]\n",
        "  scaling_dict[column] = scaling_params\n",
        "scaling_params = deviationTransform(np.array(df_input['Crop_Year'])) \n",
        "scaling_dict['Crop_Year'] = scaling_params\n",
        "df_input['Crop_Year'] = (df_input['Crop_Year'] - scaling_params[0])/scaling_params[1]\n",
        "scaling_params = deviationTransform(np.array(df_input['ProductionPerArea']))\n",
        "df_input['ProductionPerArea'] = (df_input['ProductionPerArea'] - scaling_params[0])/scaling_params[1]\n",
        "scaling_dict['ProductionPerArea'] = scaling_params\n",
        "p1 = np.percentile(np.array(df_input['ProductionPerArea']),25)\n",
        "p2 = np.percentile(np.array(df_input['ProductionPerArea']),99)\n",
        "df_input = df_input[df_input['ProductionPerArea'] > p1]\n",
        "df_input = df_input[df_input['ProductionPerArea'] < p2]"
      ],
      "execution_count": 30,
      "outputs": []
    },
    {
      "cell_type": "code",
      "metadata": {
        "id": "HhLSV05ibYEp",
        "colab": {
          "base_uri": "https://localhost:8080/",
          "height": 423
        },
        "outputId": "427bbaf0-f757-4e30-d4ff-d6185627766b"
      },
      "source": [
        "df_input"
      ],
      "execution_count": null,
      "outputs": [
        {
          "output_type": "execute_result",
          "data": {
            "text/html": [
              "\n",
              "  <div id=\"df-2dc3e4b6-e9b0-4751-9af5-4351e85040b0\">\n",
              "    <div class=\"colab-df-container\">\n",
              "      <div>\n",
              "<style scoped>\n",
              "    .dataframe tbody tr th:only-of-type {\n",
              "        vertical-align: middle;\n",
              "    }\n",
              "\n",
              "    .dataframe tbody tr th {\n",
              "        vertical-align: top;\n",
              "    }\n",
              "\n",
              "    .dataframe thead th {\n",
              "        text-align: right;\n",
              "    }\n",
              "</style>\n",
              "<table border=\"1\" class=\"dataframe\">\n",
              "  <thead>\n",
              "    <tr style=\"text-align: right;\">\n",
              "      <th></th>\n",
              "      <th>District_Name</th>\n",
              "      <th>Crop_Year</th>\n",
              "      <th>Season</th>\n",
              "      <th>Crop</th>\n",
              "      <th>ProductionPerArea</th>\n",
              "    </tr>\n",
              "  </thead>\n",
              "  <tbody>\n",
              "    <tr>\n",
              "      <th>0</th>\n",
              "      <td>0.662016</td>\n",
              "      <td>401.972771</td>\n",
              "      <td>0.2</td>\n",
              "      <td>0.009615</td>\n",
              "      <td>0.001937</td>\n",
              "    </tr>\n",
              "    <tr>\n",
              "      <th>2</th>\n",
              "      <td>0.662016</td>\n",
              "      <td>401.972771</td>\n",
              "      <td>0.2</td>\n",
              "      <td>0.769231</td>\n",
              "      <td>0.003821</td>\n",
              "    </tr>\n",
              "    <tr>\n",
              "      <th>3</th>\n",
              "      <td>0.662016</td>\n",
              "      <td>401.972771</td>\n",
              "      <td>0.8</td>\n",
              "      <td>0.048077</td>\n",
              "      <td>0.004422</td>\n",
              "    </tr>\n",
              "    <tr>\n",
              "      <th>6</th>\n",
              "      <td>0.662016</td>\n",
              "      <td>401.972771</td>\n",
              "      <td>0.8</td>\n",
              "      <td>0.317308</td>\n",
              "      <td>0.003373</td>\n",
              "    </tr>\n",
              "    <tr>\n",
              "      <th>7</th>\n",
              "      <td>0.662016</td>\n",
              "      <td>401.972771</td>\n",
              "      <td>0.8</td>\n",
              "      <td>0.865385</td>\n",
              "      <td>0.002428</td>\n",
              "    </tr>\n",
              "    <tr>\n",
              "      <th>...</th>\n",
              "      <td>...</td>\n",
              "      <td>...</td>\n",
              "      <td>...</td>\n",
              "      <td>...</td>\n",
              "      <td>...</td>\n",
              "    </tr>\n",
              "    <tr>\n",
              "      <th>246085</th>\n",
              "      <td>0.730233</td>\n",
              "      <td>404.786580</td>\n",
              "      <td>0.6</td>\n",
              "      <td>0.500000</td>\n",
              "      <td>0.007618</td>\n",
              "    </tr>\n",
              "    <tr>\n",
              "      <th>246086</th>\n",
              "      <td>0.730233</td>\n",
              "      <td>404.786580</td>\n",
              "      <td>0.6</td>\n",
              "      <td>0.769231</td>\n",
              "      <td>0.003178</td>\n",
              "    </tr>\n",
              "    <tr>\n",
              "      <th>246087</th>\n",
              "      <td>0.730233</td>\n",
              "      <td>404.786580</td>\n",
              "      <td>0.6</td>\n",
              "      <td>0.836538</td>\n",
              "      <td>0.000897</td>\n",
              "    </tr>\n",
              "    <tr>\n",
              "      <th>246088</th>\n",
              "      <td>0.730233</td>\n",
              "      <td>404.786580</td>\n",
              "      <td>0.8</td>\n",
              "      <td>0.865385</td>\n",
              "      <td>0.060899</td>\n",
              "    </tr>\n",
              "    <tr>\n",
              "      <th>246089</th>\n",
              "      <td>0.730233</td>\n",
              "      <td>404.786580</td>\n",
              "      <td>1.0</td>\n",
              "      <td>0.769231</td>\n",
              "      <td>0.002601</td>\n",
              "    </tr>\n",
              "  </tbody>\n",
              "</table>\n",
              "<p>176739 rows × 5 columns</p>\n",
              "</div>\n",
              "      <button class=\"colab-df-convert\" onclick=\"convertToInteractive('df-2dc3e4b6-e9b0-4751-9af5-4351e85040b0')\"\n",
              "              title=\"Convert this dataframe to an interactive table.\"\n",
              "              style=\"display:none;\">\n",
              "        \n",
              "  <svg xmlns=\"http://www.w3.org/2000/svg\" height=\"24px\"viewBox=\"0 0 24 24\"\n",
              "       width=\"24px\">\n",
              "    <path d=\"M0 0h24v24H0V0z\" fill=\"none\"/>\n",
              "    <path d=\"M18.56 5.44l.94 2.06.94-2.06 2.06-.94-2.06-.94-.94-2.06-.94 2.06-2.06.94zm-11 1L8.5 8.5l.94-2.06 2.06-.94-2.06-.94L8.5 2.5l-.94 2.06-2.06.94zm10 10l.94 2.06.94-2.06 2.06-.94-2.06-.94-.94-2.06-.94 2.06-2.06.94z\"/><path d=\"M17.41 7.96l-1.37-1.37c-.4-.4-.92-.59-1.43-.59-.52 0-1.04.2-1.43.59L10.3 9.45l-7.72 7.72c-.78.78-.78 2.05 0 2.83L4 21.41c.39.39.9.59 1.41.59.51 0 1.02-.2 1.41-.59l7.78-7.78 2.81-2.81c.8-.78.8-2.07 0-2.86zM5.41 20L4 18.59l7.72-7.72 1.47 1.35L5.41 20z\"/>\n",
              "  </svg>\n",
              "      </button>\n",
              "      \n",
              "  <style>\n",
              "    .colab-df-container {\n",
              "      display:flex;\n",
              "      flex-wrap:wrap;\n",
              "      gap: 12px;\n",
              "    }\n",
              "\n",
              "    .colab-df-convert {\n",
              "      background-color: #E8F0FE;\n",
              "      border: none;\n",
              "      border-radius: 50%;\n",
              "      cursor: pointer;\n",
              "      display: none;\n",
              "      fill: #1967D2;\n",
              "      height: 32px;\n",
              "      padding: 0 0 0 0;\n",
              "      width: 32px;\n",
              "    }\n",
              "\n",
              "    .colab-df-convert:hover {\n",
              "      background-color: #E2EBFA;\n",
              "      box-shadow: 0px 1px 2px rgba(60, 64, 67, 0.3), 0px 1px 3px 1px rgba(60, 64, 67, 0.15);\n",
              "      fill: #174EA6;\n",
              "    }\n",
              "\n",
              "    [theme=dark] .colab-df-convert {\n",
              "      background-color: #3B4455;\n",
              "      fill: #D2E3FC;\n",
              "    }\n",
              "\n",
              "    [theme=dark] .colab-df-convert:hover {\n",
              "      background-color: #434B5C;\n",
              "      box-shadow: 0px 1px 3px 1px rgba(0, 0, 0, 0.15);\n",
              "      filter: drop-shadow(0px 1px 2px rgba(0, 0, 0, 0.3));\n",
              "      fill: #FFFFFF;\n",
              "    }\n",
              "  </style>\n",
              "\n",
              "      <script>\n",
              "        const buttonEl =\n",
              "          document.querySelector('#df-2dc3e4b6-e9b0-4751-9af5-4351e85040b0 button.colab-df-convert');\n",
              "        buttonEl.style.display =\n",
              "          google.colab.kernel.accessAllowed ? 'block' : 'none';\n",
              "\n",
              "        async function convertToInteractive(key) {\n",
              "          const element = document.querySelector('#df-2dc3e4b6-e9b0-4751-9af5-4351e85040b0');\n",
              "          const dataTable =\n",
              "            await google.colab.kernel.invokeFunction('convertToInteractive',\n",
              "                                                     [key], {});\n",
              "          if (!dataTable) return;\n",
              "\n",
              "          const docLinkHtml = 'Like what you see? Visit the ' +\n",
              "            '<a target=\"_blank\" href=https://colab.research.google.com/notebooks/data_table.ipynb>data table notebook</a>'\n",
              "            + ' to learn more about interactive tables.';\n",
              "          element.innerHTML = '';\n",
              "          dataTable['output_type'] = 'display_data';\n",
              "          await google.colab.output.renderOutput(dataTable, element);\n",
              "          const docLink = document.createElement('div');\n",
              "          docLink.innerHTML = docLinkHtml;\n",
              "          element.appendChild(docLink);\n",
              "        }\n",
              "      </script>\n",
              "    </div>\n",
              "  </div>\n",
              "  "
            ],
            "text/plain": [
              "        District_Name   Crop_Year  Season      Crop  ProductionPerArea\n",
              "0            0.662016  401.972771     0.2  0.009615           0.001937\n",
              "2            0.662016  401.972771     0.2  0.769231           0.003821\n",
              "3            0.662016  401.972771     0.8  0.048077           0.004422\n",
              "6            0.662016  401.972771     0.8  0.317308           0.003373\n",
              "7            0.662016  401.972771     0.8  0.865385           0.002428\n",
              "...               ...         ...     ...       ...                ...\n",
              "246085       0.730233  404.786580     0.6  0.500000           0.007618\n",
              "246086       0.730233  404.786580     0.6  0.769231           0.003178\n",
              "246087       0.730233  404.786580     0.6  0.836538           0.000897\n",
              "246088       0.730233  404.786580     0.8  0.865385           0.060899\n",
              "246089       0.730233  404.786580     1.0  0.769231           0.002601\n",
              "\n",
              "[176739 rows x 5 columns]"
            ]
          },
          "metadata": {},
          "execution_count": 8
        }
      ]
    },
    {
      "cell_type": "code",
      "metadata": {
        "id": "zPW9kPllZttA"
      },
      "source": [
        "from sklearn.model_selection import train_test_split\n",
        "df_small = df_input\n",
        "df_small.columns.name = None\n",
        "df=df_small\n",
        "x_train, x_test, y_train, y_test = train_test_split(df.iloc[:,:-1], df.iloc[:,-1], test_size=0.33, random_state=42)"
      ],
      "execution_count": 9,
      "outputs": []
    },
    {
      "cell_type": "code",
      "source": [
        ""
      ],
      "metadata": {
        "id": "-yZax5UlxIvO"
      },
      "execution_count": null,
      "outputs": []
    },
    {
      "cell_type": "code",
      "metadata": {
        "id": "rLIV-y_raTsL"
      },
      "source": [
        "from sklearn.metrics import mean_squared_error\n",
        "from sklearn.metrics import mean_absolute_error\n",
        "from sklearn.metrics import mean_squared_log_error\n",
        "from sklearn.metrics import r2_score\n",
        "import numpy as np\n",
        "import seaborn as sns\n",
        "import matplotlib.pyplot as plt\n",
        "def classify(clf,x_train,x_test,y_train,y_test):\n",
        "  clf.fit(x_train,y_train)\n",
        "  y_pred = clf.predict(x_test)\n",
        "  print(y_pred)\n",
        "  y_train_pred = clf.predict(x_train)\n",
        "  metricsList = []\n",
        "  metricsList.append(mean_squared_error(y_train, y_train_pred))\n",
        "  metricsList.append(mean_absolute_error(y_test, y_pred))\n",
        "  metricsList.append(np.sqrt(mean_squared_error(y_test, y_pred)))\n",
        "  metricsList.append(r2_score(y_test,y_pred))\n",
        "  y_pred = np.array(y_pred)\n",
        "  y_test = np.array(y_test)\n",
        "  for i in range(y_test.size):\n",
        "    if(y_test[i]>15):\n",
        "      print(i,y_test[i],y_pred[i])\n",
        "  data={}\n",
        "  data['x'] = y_test\n",
        "  data['y'] = y_pred\n",
        "  #sns.regplot(x=\"x\", y=\"y\", data=data);\n",
        "  return metricsList\n"
      ],
      "execution_count": 31,
      "outputs": []
    },
    {
      "cell_type": "code",
      "source": [
        "clfMetrics = []"
      ],
      "metadata": {
        "id": "Z26x7BCRx0eP"
      },
      "execution_count": 32,
      "outputs": []
    },
    {
      "cell_type": "code",
      "metadata": {
        "id": "UUFesFqCbCFo",
        "colab": {
          "base_uri": "https://localhost:8080/"
        },
        "outputId": "22f10052-b293-4a18-fa1a-ff96eec0aff9"
      },
      "source": [
        "from sklearn.ensemble import RandomForestRegressor\n",
        "regresser = RandomForestRegressor(n_estimators = 10 ,random_state = 0)\n",
        "print(\"\\t\\t\\t random-forest classifier\")\n",
        "clfMetrics.append((classify(regresser,x_train,x_test,y_train,y_test)))\n",
        "print(clfMetrics)"
      ],
      "execution_count": 33,
      "outputs": [
        {
          "output_type": "stream",
          "name": "stdout",
          "text": [
            "\t\t\t random-forest classifier\n",
            "[0.00158803 0.00304108 0.0008977  ... 0.07668878 0.00342747 0.06396993]\n",
            "[[3.7124307254060725e-06, 0.0015127300089711254, 0.004453244017675656, 0.8838874164467735]]\n"
          ]
        }
      ]
    },
    {
      "cell_type": "code",
      "metadata": {
        "id": "pYxMkyz-P8Rg"
      },
      "source": [
        "regresser.get_params(\"true\")"
      ],
      "execution_count": null,
      "outputs": []
    },
    {
      "cell_type": "code",
      "metadata": {
        "id": "FQ5PqbKvufyO",
        "colab": {
          "base_uri": "https://localhost:8080/"
        },
        "outputId": "5c73fa07-af22-4bcd-e428-e050cba40b4c"
      },
      "source": [
        "#linear regression\n",
        "from sklearn.linear_model import LinearRegression\n",
        "reg = LinearRegression()\n",
        "print(\"\\t\\t\\t linear-regression classifier\")\n",
        "clfMetrics.append((classify(reg,x_train,x_test,y_train,y_test)))\n",
        "print(clfMetrics)"
      ],
      "execution_count": 34,
      "outputs": [
        {
          "output_type": "stream",
          "name": "stdout",
          "text": [
            "\t\t\t linear-regression classifier\n",
            "[0.00804721 0.01322361 0.00507802 ... 0.01250506 0.01038391 0.01274328]\n",
            "[[3.7124307254060725e-06, 0.0015127300089711254, 0.004453244017675656, 0.8838874164467735], [0.00015706748090237865, 0.006590277513631465, 0.012385990235560354, 0.10176956008491334]]\n"
          ]
        }
      ]
    },
    {
      "cell_type": "code",
      "source": [
        "from sklearn import neighbors\n",
        "from sklearn.metrics import mean_squared_error \n",
        "from math import sqrt\n",
        "import matplotlib.pyplot as plt\n",
        "%matplotlib inline\n",
        "K = 3\n",
        "model = neighbors.KNeighborsRegressor(n_neighbors = K)\n",
        "clfMetrics.append((classify(model,x_train,x_test,y_train,y_test)))\n",
        "print(clfMetrics)"
      ],
      "metadata": {
        "colab": {
          "base_uri": "https://localhost:8080/"
        },
        "id": "AqmL-BRZoKxa",
        "outputId": "18f3328c-f295-40b4-b69b-1a6d8ed26a5d"
      },
      "execution_count": 35,
      "outputs": [
        {
          "output_type": "stream",
          "name": "stdout",
          "text": [
            "[0.00165927 0.01675481 0.00091038 ... 0.0736773  0.00364343 0.06392402]\n",
            "[[3.7124307254060725e-06, 0.0015127300089711254, 0.004453244017675656, 0.8838874164467735], [0.00015706748090237865, 0.006590277513631465, 0.012385990235560354, 0.10176956008491334], [3.905524299211639e-05, 0.0037482670396252037, 0.00914529419235706, 0.5103095171845271]]\n"
          ]
        }
      ]
    },
    {
      "cell_type": "code",
      "metadata": {
        "id": "EA5ikFezrC8K"
      },
      "source": [
        "json_params = {}\n",
        "json_params['labels'] = labels_dict\n",
        "json_params['scaling'] = scaling_dict"
      ],
      "execution_count": null,
      "outputs": []
    },
    {
      "cell_type": "code",
      "source": [
        "from sklearn.neighbors import KNeighborsClassifier\n",
        "neigh = KNeighborsClassifier(n_neighbors=3)"
      ],
      "metadata": {
        "id": "NqqBpr0Gwhxl"
      },
      "execution_count": null,
      "outputs": []
    },
    {
      "cell_type": "code",
      "source": [
        "df = pd.DataFrame.from_records(clfMetrics)\n",
        "metricList = ['MSE','MAE','RMSE','R2_Score']\n",
        "df.columns= metricList\n",
        "df['models'] = ['Random Forest','Linear Regression' ,'KNN regressor']\n",
        "print(df)\n",
        "for metric in metricList:\n",
        "  df.plot.bar(x='models', y=metric, rot=0)"
      ],
      "metadata": {
        "id": "dOpgVz-CwzmS",
        "colab": {
          "base_uri": "https://localhost:8080/",
          "height": 1000
        },
        "outputId": "fc4317f2-d7d5-4490-d5de-48a581724f79"
      },
      "execution_count": 46,
      "outputs": [
        {
          "output_type": "stream",
          "name": "stdout",
          "text": [
            "        MSE       MAE      RMSE  R2_Score             models\n",
            "0  0.000004  0.001513  0.004453  0.883887      Random Forest\n",
            "1  0.000157  0.006590  0.012386  0.101770  Linear Regression\n",
            "2  0.000039  0.003748  0.009145  0.510310      KNN regressor\n"
          ]
        },
        {
          "output_type": "display_data",
          "data": {
            "image/png": "[encoded data removed]",
            "text/plain": [
              "<Figure size 432x288 with 1 Axes>"
            ]
          },
          "metadata": {
            "needs_background": "light"
          }
        },
        {
          "output_type": "display_data",
          "data": {
            "image/png": "[encoded data removed]",
            "text/plain": [
              "<Figure size 432x288 with 1 Axes>"
            ]
          },
          "metadata": {
            "needs_background": "light"
          }
        },
        {
          "output_type": "display_data",
          "data": {
            "image/png": "[encoded data removed]",
            "text/plain": [
              "<Figure size 432x288 with 1 Axes>"
            ]
          },
          "metadata": {
            "needs_background": "light"
          }
        },
        {
          "output_type": "display_data",
          "data": {
            "image/png": "[encoded data removed]",
            "text/plain": [
              "<Figure size 432x288 with 1 Axes>"
            ]
          },
          "metadata": {
            "needs_background": "light"
          }
        }
      ]
    },
    {
      "cell_type": "code",
      "source": [
        "pd.DataFrame({'lab':['A', 'B', 'C'], 'val':[10, 30, 20]})"
      ],
      "metadata": {
        "colab": {
          "base_uri": "https://localhost:8080/",
          "height": 143
        },
        "id": "xOkMNIbrNfiU",
        "outputId": "876e0e59-41f3-4c4e-b442-fc6392967b36"
      },
      "execution_count": 38,
      "outputs": [
        {
          "output_type": "execute_result",
          "data": {
            "text/html": [
              "\n",
              "  <div id=\"df-19ec41b9-3599-4c5d-81e3-6782ee05b890\">\n",
              "    <div class=\"colab-df-container\">\n",
              "      <div>\n",
              "<style scoped>\n",
              "    .dataframe tbody tr th:only-of-type {\n",
              "        vertical-align: middle;\n",
              "    }\n",
              "\n",
              "    .dataframe tbody tr th {\n",
              "        vertical-align: top;\n",
              "    }\n",
              "\n",
              "    .dataframe thead th {\n",
              "        text-align: right;\n",
              "    }\n",
              "</style>\n",
              "<table border=\"1\" class=\"dataframe\">\n",
              "  <thead>\n",
              "    <tr style=\"text-align: right;\">\n",
              "      <th></th>\n",
              "      <th>lab</th>\n",
              "      <th>val</th>\n",
              "    </tr>\n",
              "  </thead>\n",
              "  <tbody>\n",
              "    <tr>\n",
              "      <th>0</th>\n",
              "      <td>A</td>\n",
              "      <td>10</td>\n",
              "    </tr>\n",
              "    <tr>\n",
              "      <th>1</th>\n",
              "      <td>B</td>\n",
              "      <td>30</td>\n",
              "    </tr>\n",
              "    <tr>\n",
              "      <th>2</th>\n",
              "      <td>C</td>\n",
              "      <td>20</td>\n",
              "    </tr>\n",
              "  </tbody>\n",
              "</table>\n",
              "</div>\n",
              "      <button class=\"colab-df-convert\" onclick=\"convertToInteractive('df-19ec41b9-3599-4c5d-81e3-6782ee05b890')\"\n",
              "              title=\"Convert this dataframe to an interactive table.\"\n",
              "              style=\"display:none;\">\n",
              "        \n",
              "  <svg xmlns=\"http://www.w3.org/2000/svg\" height=\"24px\"viewBox=\"0 0 24 24\"\n",
              "       width=\"24px\">\n",
              "    <path d=\"M0 0h24v24H0V0z\" fill=\"none\"/>\n",
              "    <path d=\"M18.56 5.44l.94 2.06.94-2.06 2.06-.94-2.06-.94-.94-2.06-.94 2.06-2.06.94zm-11 1L8.5 8.5l.94-2.06 2.06-.94-2.06-.94L8.5 2.5l-.94 2.06-2.06.94zm10 10l.94 2.06.94-2.06 2.06-.94-2.06-.94-.94-2.06-.94 2.06-2.06.94z\"/><path d=\"M17.41 7.96l-1.37-1.37c-.4-.4-.92-.59-1.43-.59-.52 0-1.04.2-1.43.59L10.3 9.45l-7.72 7.72c-.78.78-.78 2.05 0 2.83L4 21.41c.39.39.9.59 1.41.59.51 0 1.02-.2 1.41-.59l7.78-7.78 2.81-2.81c.8-.78.8-2.07 0-2.86zM5.41 20L4 18.59l7.72-7.72 1.47 1.35L5.41 20z\"/>\n",
              "  </svg>\n",
              "      </button>\n",
              "      \n",
              "  <style>\n",
              "    .colab-df-container {\n",
              "      display:flex;\n",
              "      flex-wrap:wrap;\n",
              "      gap: 12px;\n",
              "    }\n",
              "\n",
              "    .colab-df-convert {\n",
              "      background-color: #E8F0FE;\n",
              "      border: none;\n",
              "      border-radius: 50%;\n",
              "      cursor: pointer;\n",
              "      display: none;\n",
              "      fill: #1967D2;\n",
              "      height: 32px;\n",
              "      padding: 0 0 0 0;\n",
              "      width: 32px;\n",
              "    }\n",
              "\n",
              "    .colab-df-convert:hover {\n",
              "      background-color: #E2EBFA;\n",
              "      box-shadow: 0px 1px 2px rgba(60, 64, 67, 0.3), 0px 1px 3px 1px rgba(60, 64, 67, 0.15);\n",
              "      fill: #174EA6;\n",
              "    }\n",
              "\n",
              "    [theme=dark] .colab-df-convert {\n",
              "      background-color: #3B4455;\n",
              "      fill: #D2E3FC;\n",
              "    }\n",
              "\n",
              "    [theme=dark] .colab-df-convert:hover {\n",
              "      background-color: #434B5C;\n",
              "      box-shadow: 0px 1px 3px 1px rgba(0, 0, 0, 0.15);\n",
              "      filter: drop-shadow(0px 1px 2px rgba(0, 0, 0, 0.3));\n",
              "      fill: #FFFFFF;\n",
              "    }\n",
              "  </style>\n",
              "\n",
              "      <script>\n",
              "        const buttonEl =\n",
              "          document.querySelector('#df-19ec41b9-3599-4c5d-81e3-6782ee05b890 button.colab-df-convert');\n",
              "        buttonEl.style.display =\n",
              "          google.colab.kernel.accessAllowed ? 'block' : 'none';\n",
              "\n",
              "        async function convertToInteractive(key) {\n",
              "          const element = document.querySelector('#df-19ec41b9-3599-4c5d-81e3-6782ee05b890');\n",
              "          const dataTable =\n",
              "            await google.colab.kernel.invokeFunction('convertToInteractive',\n",
              "                                                     [key], {});\n",
              "          if (!dataTable) return;\n",
              "\n",
              "          const docLinkHtml = 'Like what you see? Visit the ' +\n",
              "            '<a target=\"_blank\" href=https://colab.research.google.com/notebooks/data_table.ipynb>data table notebook</a>'\n",
              "            + ' to learn more about interactive tables.';\n",
              "          element.innerHTML = '';\n",
              "          dataTable['output_type'] = 'display_data';\n",
              "          await google.colab.output.renderOutput(dataTable, element);\n",
              "          const docLink = document.createElement('div');\n",
              "          docLink.innerHTML = docLinkHtml;\n",
              "          element.appendChild(docLink);\n",
              "        }\n",
              "      </script>\n",
              "    </div>\n",
              "  </div>\n",
              "  "
            ],
            "text/plain": [
              "  lab  val\n",
              "0   A   10\n",
              "1   B   30\n",
              "2   C   20"
            ]
          },
          "metadata": {},
          "execution_count": 38
        }
      ]
    }
  ]
}