{
  "nbformat": 4,
  "nbformat_minor": 0,
  "metadata": {
    "colab": {
      "name": "sasi_btp.ipynb",
      "provenance": [],
      "collapsed_sections": [],
      "authorship_tag": "ABX9TyP8Ju3ymq/riN5Nm5BDqpJo",
      "include_colab_link": true
    },
    "kernelspec": {
      "name": "python3",
      "display_name": "Python 3"
    },
    "language_info": {
      "name": "python"
    }
  },
  "cells": [
    {
      "cell_type": "markdown",
      "metadata": {
        "id": "view-in-github",
        "colab_type": "text"
      },
      "source": [
        "<a href=\"https://colab.research.google.com/github/adityasaich/sasi_btp/blob/main/sasi_btp.ipynb\" target=\"_parent\"><img src=\"https://colab.research.google.com/assets/colab-badge.svg\" alt=\"Open In Colab\"/></a>"
      ]
    },
    {
      "cell_type": "code",
      "metadata": {
        "id": "yU10kfw836GQ"
      },
      "source": [
        "import pandas as pd\n",
        "import numpy as np"
      ],
      "execution_count": 17,
      "outputs": []
    },
    {
      "cell_type": "code",
      "metadata": {
        "id": "HnZSvGkM4KLP"
      },
      "source": [
        "!pip install -U -q PyDrive\n",
        "from pydrive.auth import GoogleAuth\n",
        "from pydrive.drive import GoogleDrive\n",
        "from google.colab import auth\n",
        "from oauth2client.client import GoogleCredentials\n",
        "# Authenticate and create the PyDrive client.\n",
        "auth.authenticate_user()\n",
        "gauth = GoogleAuth()\n",
        "gauth.credentials = GoogleCredentials.get_application_default()\n",
        "drive = GoogleDrive(gauth)"
      ],
      "execution_count": 18,
      "outputs": []
    },
    {
      "cell_type": "code",
      "metadata": {
        "id": "-cay1gNP4qgZ"
      },
      "source": [
        "id = '18xGNPuvbXGSN97g0CzI1tIBl81zJrToF'"
      ],
      "execution_count": 19,
      "outputs": []
    },
    {
      "cell_type": "code",
      "metadata": {
        "id": "pbxReImg4oXL"
      },
      "source": [
        "downloaded = drive.CreateFile({'id':id}) \n",
        "downloaded.GetContentFile('dataset.csv')  \n",
        "df_input = pd.read_csv('dataset.csv')\n",
        "#df_input = df_input.sample(n=50000)"
      ],
      "execution_count": 20,
      "outputs": []
    },
    {
      "cell_type": "code",
      "metadata": {
        "id": "tR50-2tVF7hc"
      },
      "source": [
        "#url = 'https://raw.githubusercontent.com/adityasaich/sasi_btp/main/dataworld_set.csv?token=ALPKPQCX3COGEIP65QDO2V3BR5QT6'\n",
        "#df_input = pd.read_csv(url)"
      ],
      "execution_count": null,
      "outputs": []
    },
    {
      "cell_type": "code",
      "metadata": {
        "id": "CoVLRIQIRUk7"
      },
      "source": [
        "def deviationTransform(arr):\n",
        "  m = np.mean(arr)\n",
        "  d = np.std(arr)\n",
        "  return [m,d]\n",
        "def minMaxTransform(arr):\n",
        "  min = np.min(arr)\n",
        "  max = np.max(arr)\n",
        "  return [min,max-min]"
      ],
      "execution_count": 21,
      "outputs": []
    },
    {
      "cell_type": "code",
      "metadata": {
        "id": "6eosEdO5wVqD"
      },
      "source": [
        "#pre-processing\n",
        "from sklearn.preprocessing import LabelEncoder\n",
        "from sklearn.preprocessing import MinMaxScaler\n",
        "df_input = df_input[df_input['Area'] > 0 ]\n",
        "df_input = df_input[df_input['Production'] > 0 ]\n",
        "df_input[\"ProductionPerArea\"] = ((df_input[\"Production\"])/(df_input[\"Area\"]))\n",
        "#dropping columns which are not used\n",
        "df_input = df_input.drop(columns=['District_Name','Crop_Year','Area','Production'])\n",
        "#replace empty strings with nan\n",
        "df_input = df_input.replace(r'^\\s*$', np.NaN, regex=True)\n",
        "#drop null values\n",
        "df_input = df_input.dropna()\n"
      ],
      "execution_count": 22,
      "outputs": []
    },
    {
      "cell_type": "code",
      "metadata": {
        "colab": {
          "base_uri": "https://localhost:8080/",
          "height": 682
        },
        "id": "JlfcyeRW4m4a",
        "outputId": "4c2993cb-d3a2-40c0-a1a4-5c8fd445c4e5"
      },
      "source": [
        "x = df_input['ProductionPerArea']\n",
        "print(x.describe())\n",
        "\n",
        "import matplotlib.pyplot as plt\n",
        "plt.style.use('ggplot')\n",
        "fig, ax = plt.subplots()\n",
        "ax.boxplot((x), vert=False, showmeans=True, meanline=True,\n",
        "           labels=('x'), patch_artist=True,\n",
        "           medianprops={'linewidth': 2, 'color': 'purple'},\n",
        "           meanprops={'linewidth': 2, 'color': 'red'})\n",
        "plt.show()\n",
        "hist, bin_edges = np.histogram(x, bins=100)\n",
        "fig, ax = plt.subplots()\n",
        "ax.hist(x, bin_edges, cumulative=False)\n",
        "ax.set_xlabel('x')\n",
        "ax.set_ylabel('Frequency')\n",
        "plt.show()"
      ],
      "execution_count": 7,
      "outputs": [
        {
          "output_type": "stream",
          "name": "stdout",
          "text": [
            "count    48500.000000\n",
            "mean        32.356194\n",
            "std        632.144398\n",
            "min          0.000008\n",
            "25%          0.530494\n",
            "50%          1.000000\n",
            "75%          2.416164\n",
            "max      73000.000000\n",
            "Name: ProductionPerArea, dtype: float64\n"
          ]
        },
        {
          "output_type": "display_data",
          "data": {
            "image/png": "[encoded data removed]",
            "text/plain": [
              "<Figure size 432x288 with 1 Axes>"
            ]
          },
          "metadata": {}
        },
        {
          "output_type": "display_data",
          "data": {
            "image/png": "[encoded data removed]",
            "text/plain": [
              "<Figure size 432x288 with 1 Axes>"
            ]
          },
          "metadata": {}
        }
      ]
    },
    {
      "cell_type": "code",
      "metadata": {
        "id": "vCHx2bow4jXP"
      },
      "source": [
        "categorical_columns = ['State_Name', 'Crop' ,'Season']\n",
        "#label encoder dict\n",
        "le_dict = {}\n",
        "#scaling dict\n",
        "scaling_dict = {}\n",
        "for column in categorical_columns:\n",
        "  le = LabelEncoder()\n",
        "  le.fit(df_input[column])\n",
        "  df_input[column] = le.transform(df_input[column])\n",
        "  le_dict[column] = le\n",
        "  scaling_params = minMaxTransform(np.array(df_input[column]))\n",
        "  df_input[column] = (df_input[column] - scaling_params[0])/scaling_params[1]\n",
        "  scaling_dict[column] = scaling_params\n",
        "scaling_params = deviationTransform(np.array(df_input['ProductionPerArea']))\n",
        "df_input['ProductionPerArea'] = (df_input['ProductionPerArea'] - scaling_params[0])/scaling_params[1]\n",
        "scaling_dict['ProductionPerArea'] = scaling_params"
      ],
      "execution_count": 23,
      "outputs": []
    },
    {
      "cell_type": "code",
      "metadata": {
        "colab": {
          "base_uri": "https://localhost:8080/"
        },
        "id": "HhLSV05ibYEp",
        "outputId": "215c9f01-bfcd-4e49-84bd-d36e0a46a639"
      },
      "source": [
        "scaling_dict"
      ],
      "execution_count": 9,
      "outputs": [
        {
          "output_type": "execute_result",
          "data": {
            "text/plain": [
              "{'Crop': [0, 104],\n",
              " 'ProductionPerArea': [32.35619415788354, 632.1378805936075],\n",
              " 'Season': [0, 5],\n",
              " 'State_Name': [0, 32]}"
            ]
          },
          "metadata": {},
          "execution_count": 9
        }
      ]
    },
    {
      "cell_type": "code",
      "metadata": {
        "colab": {
          "base_uri": "https://localhost:8080/"
        },
        "id": "zPW9kPllZttA",
        "outputId": "68768399-e465-42ab-fc93-5839486d93a8"
      },
      "source": [
        "from sklearn.model_selection import train_test_split\n",
        "df_small = df_input\n",
        "df_small.columns.name = None\n",
        "df=df_small\n",
        "x_train, x_test, y_train, y_test = train_test_split(df.iloc[:,:-1], df.iloc[:,-1], test_size=0.33, random_state=42)\n",
        "print(x_train,y_train)"
      ],
      "execution_count": 24,
      "outputs": [
        {
          "output_type": "stream",
          "name": "stdout",
          "text": [
            "        State_Name  Season      Crop\n",
            "190852     0.84375     0.2  0.836538\n",
            "16928      0.09375     0.4  0.519231\n",
            "158821     0.68750     1.0  0.750000\n",
            "15637      0.09375     0.6  0.769231\n",
            "37586      0.12500     0.2  0.817308\n",
            "...            ...     ...       ...\n",
            "124415     0.50000     0.8  0.269231\n",
            "107164     0.50000     0.2  0.769231\n",
            "136701     0.53125     0.2  0.557692\n",
            "151694     0.68750     0.6  0.836538\n",
            "126573     0.53125     0.2  0.500000\n",
            "\n",
            "[160021 rows x 3 columns] 190852   -0.050897\n",
            "16928    -0.050778\n",
            "158821   -0.051122\n",
            "15637    -0.050392\n",
            "37586    -0.046821\n",
            "            ...   \n",
            "124415   -0.050978\n",
            "107164   -0.050662\n",
            "136701   -0.050971\n",
            "151694   -0.051104\n",
            "126573   -0.048287\n",
            "Name: ProductionPerArea, Length: 160021, dtype: float64\n"
          ]
        }
      ]
    },
    {
      "cell_type": "code",
      "metadata": {
        "id": "rLIV-y_raTsL"
      },
      "source": [
        "from sklearn.metrics import mean_squared_error\n",
        "def classify(clf,x_train,x_test,y_train,y_test):\n",
        "  clf.fit(x_train,y_train)\n",
        "  y_pred = clf.predict(x_test)\n",
        "  print(y_pred)\n",
        "  y_train_pred = clf.predict(x_train)\n",
        "  print(mean_squared_error(y_train, y_train_pred))\n",
        "  print(mean_squared_error(y_test, y_pred))\n",
        "  print(y_pred)\n",
        "  print(y_test)"
      ],
      "execution_count": 25,
      "outputs": []
    },
    {
      "cell_type": "code",
      "metadata": {
        "id": "rtwDQcE0dECz",
        "colab": {
          "base_uri": "https://localhost:8080/"
        },
        "outputId": "f3a6f0d0-97e2-4501-cfa8-e3cd228d2d0a"
      },
      "source": [
        "#using kernel ridge crashing with ram limit excedded\n",
        "from sklearn.kernel_ridge import KernelRidge\n",
        "krr_clf = KernelRidge(alpha=1.0)\n",
        "print(\"\\t\\t\\t kernel-ridge classifier\")\n",
        "classify(krr_clf,x_train,x_test,y_train,y_test)"
      ],
      "execution_count": null,
      "outputs": [
        {
          "output_type": "stream",
          "name": "stdout",
          "text": [
            "\t\t\t kernel-ridge classifier\n"
          ]
        }
      ]
    },
    {
      "cell_type": "code",
      "metadata": {
        "id": "UUFesFqCbCFo",
        "colab": {
          "base_uri": "https://localhost:8080/"
        },
        "outputId": "5ad2800b-c8a0-47ea-a6f2-9a34e25cf3b4"
      },
      "source": [
        "from sklearn.ensemble import RandomForestRegressor\n",
        "regresser = RandomForestRegressor(n_estimators = 10 ,random_state = 0)\n",
        "print(\"\\t\\t\\t random-forest classifier\")\n",
        "classify(regresser,x_train,x_test,y_train,y_test)"
      ],
      "execution_count": 26,
      "outputs": [
        {
          "output_type": "stream",
          "name": "stdout",
          "text": [
            "\t\t\t random-forest classifier\n",
            "[ 0.00361644 -0.05050501 -0.04374779 ... -0.05067865 -0.02702237\n",
            " -0.04762243]\n",
            "0.7278192223578155\n",
            "0.41832777322236697\n",
            "[ 0.00361644 -0.05050501 -0.04374779 ... -0.05067865 -0.02702237\n",
            " -0.04762243]\n",
            "41416     0.000848\n",
            "183710   -0.050528\n",
            "71982    -0.050060\n",
            "125632   -0.049879\n",
            "180040   -0.044477\n",
            "            ...   \n",
            "12046    -0.050057\n",
            "141176   -0.049323\n",
            "192436   -0.050514\n",
            "145546   -0.026729\n",
            "58122    -0.047502\n",
            "Name: ProductionPerArea, Length: 78817, dtype: float64\n"
          ]
        }
      ]
    }
  ]
}