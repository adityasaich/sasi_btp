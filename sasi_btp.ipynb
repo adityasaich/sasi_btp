{
  "nbformat": 4,
  "nbformat_minor": 0,
  "metadata": {
    "colab": {
      "name": "sasi_btp.ipynb",
      "provenance": [],
      "collapsed_sections": [],
      "authorship_tag": "ABX9TyN4CHutDrznAMLAQ3F6W3V2",
      "include_colab_link": true
    },
    "kernelspec": {
      "name": "python3",
      "display_name": "Python 3"
    },
    "language_info": {
      "name": "python"
    }
  },
  "cells": [
    {
      "cell_type": "markdown",
      "metadata": {
        "id": "view-in-github",
        "colab_type": "text"
      },
      "source": [
        "<a href=\"https://colab.research.google.com/github/adityasaich/sasi_btp/blob/main/sasi_btp.ipynb\" target=\"_parent\"><img src=\"https://colab.research.google.com/assets/colab-badge.svg\" alt=\"Open In Colab\"/></a>"
      ]
    },
    {
      "cell_type": "code",
      "metadata": {
        "id": "yU10kfw836GQ"
      },
      "source": [
        "import pandas as pd\n",
        "import numpy as np"
      ],
      "execution_count": 1,
      "outputs": []
    },
    {
      "cell_type": "code",
      "metadata": {
        "id": "HnZSvGkM4KLP"
      },
      "source": [
        "!pip install -U -q PyDrive\n",
        "from pydrive.auth import GoogleAuth\n",
        "from pydrive.drive import GoogleDrive\n",
        "from google.colab import auth\n",
        "from oauth2client.client import GoogleCredentials\n",
        "# Authenticate and create the PyDrive client.\n",
        "auth.authenticate_user()\n",
        "gauth = GoogleAuth()\n",
        "gauth.credentials = GoogleCredentials.get_application_default()\n",
        "drive = GoogleDrive(gauth)"
      ],
      "execution_count": 2,
      "outputs": []
    },
    {
      "cell_type": "code",
      "metadata": {
        "id": "-cay1gNP4qgZ"
      },
      "source": [
        "id = '18xGNPuvbXGSN97g0CzI1tIBl81zJrToF'"
      ],
      "execution_count": 3,
      "outputs": []
    },
    {
      "cell_type": "code",
      "metadata": {
        "id": "pbxReImg4oXL"
      },
      "source": [
        "downloaded = drive.CreateFile({'id':id}) \n",
        "downloaded.GetContentFile('dataset.csv')  \n",
        "df_input = pd.read_csv('dataset.csv')\n",
        "#df_input = df_input.sample(n=50000)"
      ],
      "execution_count": 4,
      "outputs": []
    },
    {
      "cell_type": "code",
      "metadata": {
        "id": "tR50-2tVF7hc"
      },
      "source": [
        "#url = 'https://raw.githubusercontent.com/adityasaich/sasi_btp/main/dataworld_set.csv?token=ALPKPQCX3COGEIP65QDO2V3BR5QT6'\n",
        "#df_input = pd.read_csv(url)"
      ],
      "execution_count": null,
      "outputs": []
    },
    {
      "cell_type": "code",
      "metadata": {
        "id": "CoVLRIQIRUk7"
      },
      "source": [
        "def deviationTransform(arr):\n",
        "  m = np.mean(arr)\n",
        "  d = np.std(arr)\n",
        "  return [m,d]\n",
        "def minMaxTransform(arr):\n",
        "  min = np.min(arr)\n",
        "  max = np.max(arr)\n",
        "  return [min,max-min]"
      ],
      "execution_count": 5,
      "outputs": []
    },
    {
      "cell_type": "code",
      "metadata": {
        "id": "6eosEdO5wVqD"
      },
      "source": [
        "#pre-processing\n",
        "from sklearn.preprocessing import LabelEncoder\n",
        "from sklearn.preprocessing import MinMaxScaler\n",
        "df_input = df_input[df_input['Area'] > 0 ]\n",
        "df_input = df_input[df_input['Production'] > 0 ]\n",
        "df_input[\"ProductionPerArea\"] = ((df_input[\"Production\"])/(df_input[\"Area\"]))\n",
        "#dropping columns which are not used\n",
        "df_input = df_input.drop(columns=['District_Name','Area','Production'])\n",
        "#replace empty strings with nan\n",
        "df_input = df_input.replace(r'^\\s*$', np.NaN, regex=True)\n",
        "#drop null values\n",
        "df_input = df_input.dropna()\n"
      ],
      "execution_count": 6,
      "outputs": []
    },
    {
      "cell_type": "code",
      "metadata": {
        "id": "JlfcyeRW4m4a"
      },
      "source": [
        "x = df_input['ProductionPerArea']\n",
        "print(x.describe())\n",
        "\n",
        "import matplotlib.pyplot as plt\n",
        "plt.style.use('ggplot')\n",
        "fig, ax = plt.subplots()\n",
        "ax.boxplot((x), vert=False, showmeans=True, meanline=True,\n",
        "           labels=('x'), patch_artist=True,\n",
        "           medianprops={'linewidth': 2, 'color': 'purple'},\n",
        "           meanprops={'linewidth': 2, 'color': 'red'})\n",
        "plt.show()\n",
        "hist, bin_edges = np.histogram(x, bins=20)\n",
        "fig, ax = plt.subplots()\n",
        "ax.hist(x, bin_edges, cumulative=False)\n",
        "ax.set_xlabel('x')\n",
        "ax.set_ylabel('Frequency')\n",
        "plt.show()"
      ],
      "execution_count": null,
      "outputs": []
    },
    {
      "cell_type": "code",
      "metadata": {
        "id": "vCHx2bow4jXP"
      },
      "source": [
        "categorical_columns = ['State_Name', 'Crop' ,'Season']\n",
        "#label encoder dict\n",
        "labels_dict = {}\n",
        "#scaling dict\n",
        "scaling_dict = {}\n",
        "for column in categorical_columns:\n",
        "  le = LabelEncoder()\n",
        "  le.fit(df_input[column])\n",
        "  df_input[column] = le.transform(df_input[column])\n",
        "  labels_dict[column] = list(le.classes_)\n",
        "  scaling_params = minMaxTransform(np.array(df_input[column]))\n",
        "  df_input[column] = (df_input[column] - scaling_params[0])/scaling_params[1]\n",
        "  scaling_dict[column] = scaling_params\n",
        "scaling_params = deviationTransform(np.array(df_input['Crop_Year'])) \n",
        "scaling_dict['Crop_Year'] = scaling_params\n",
        "df_input['Crop_Year'] = (df_input['Crop_Year'] - scaling_params[0])/scaling_params[1]\n",
        "scaling_params = deviationTransform(np.array(df_input['ProductionPerArea']))\n",
        "df_input['ProductionPerArea'] = (df_input['ProductionPerArea'] - scaling_params[0])/scaling_params[1]\n",
        "scaling_dict['ProductionPerArea'] = scaling_params"
      ],
      "execution_count": 7,
      "outputs": []
    },
    {
      "cell_type": "code",
      "metadata": {
        "id": "HhLSV05ibYEp",
        "colab": {
          "base_uri": "https://localhost:8080/",
          "height": 417
        },
        "outputId": "62847838-27a3-486b-e81d-d91e96686c6d"
      },
      "source": [
        "df_input"
      ],
      "execution_count": 8,
      "outputs": [
        {
          "output_type": "execute_result",
          "data": {
            "text/html": [
              "<div>\n",
              "<style scoped>\n",
              "    .dataframe tbody tr th:only-of-type {\n",
              "        vertical-align: middle;\n",
              "    }\n",
              "\n",
              "    .dataframe tbody tr th {\n",
              "        vertical-align: top;\n",
              "    }\n",
              "\n",
              "    .dataframe thead th {\n",
              "        text-align: right;\n",
              "    }\n",
              "</style>\n",
              "<table border=\"1\" class=\"dataframe\">\n",
              "  <thead>\n",
              "    <tr style=\"text-align: right;\">\n",
              "      <th></th>\n",
              "      <th>State_Name</th>\n",
              "      <th>Crop_Year</th>\n",
              "      <th>Season</th>\n",
              "      <th>Crop</th>\n",
              "      <th>ProductionPerArea</th>\n",
              "    </tr>\n",
              "  </thead>\n",
              "  <tbody>\n",
              "    <tr>\n",
              "      <th>0</th>\n",
              "      <td>0.0</td>\n",
              "      <td>-1.140834</td>\n",
              "      <td>0.2</td>\n",
              "      <td>0.009615</td>\n",
              "      <td>-0.049381</td>\n",
              "    </tr>\n",
              "    <tr>\n",
              "      <th>1</th>\n",
              "      <td>0.0</td>\n",
              "      <td>-1.140834</td>\n",
              "      <td>0.2</td>\n",
              "      <td>0.625000</td>\n",
              "      <td>-0.050711</td>\n",
              "    </tr>\n",
              "    <tr>\n",
              "      <th>2</th>\n",
              "      <td>0.0</td>\n",
              "      <td>-1.140834</td>\n",
              "      <td>0.2</td>\n",
              "      <td>0.769231</td>\n",
              "      <td>-0.047496</td>\n",
              "    </tr>\n",
              "    <tr>\n",
              "      <th>3</th>\n",
              "      <td>0.0</td>\n",
              "      <td>-1.140834</td>\n",
              "      <td>0.8</td>\n",
              "      <td>0.048077</td>\n",
              "      <td>-0.046895</td>\n",
              "    </tr>\n",
              "    <tr>\n",
              "      <th>4</th>\n",
              "      <td>0.0</td>\n",
              "      <td>-1.140834</td>\n",
              "      <td>0.8</td>\n",
              "      <td>0.173077</td>\n",
              "      <td>-0.051039</td>\n",
              "    </tr>\n",
              "    <tr>\n",
              "      <th>...</th>\n",
              "      <td>...</td>\n",
              "      <td>...</td>\n",
              "      <td>...</td>\n",
              "      <td>...</td>\n",
              "      <td>...</td>\n",
              "    </tr>\n",
              "    <tr>\n",
              "      <th>246086</th>\n",
              "      <td>1.0</td>\n",
              "      <td>1.672975</td>\n",
              "      <td>0.6</td>\n",
              "      <td>0.769231</td>\n",
              "      <td>-0.048139</td>\n",
              "    </tr>\n",
              "    <tr>\n",
              "      <th>246087</th>\n",
              "      <td>1.0</td>\n",
              "      <td>1.672975</td>\n",
              "      <td>0.6</td>\n",
              "      <td>0.836538</td>\n",
              "      <td>-0.050421</td>\n",
              "    </tr>\n",
              "    <tr>\n",
              "      <th>246088</th>\n",
              "      <td>1.0</td>\n",
              "      <td>1.672975</td>\n",
              "      <td>0.8</td>\n",
              "      <td>0.865385</td>\n",
              "      <td>0.009581</td>\n",
              "    </tr>\n",
              "    <tr>\n",
              "      <th>246089</th>\n",
              "      <td>1.0</td>\n",
              "      <td>1.672975</td>\n",
              "      <td>1.0</td>\n",
              "      <td>0.769231</td>\n",
              "      <td>-0.048717</td>\n",
              "    </tr>\n",
              "    <tr>\n",
              "      <th>246090</th>\n",
              "      <td>1.0</td>\n",
              "      <td>1.672975</td>\n",
              "      <td>1.0</td>\n",
              "      <td>0.836538</td>\n",
              "      <td>-0.050707</td>\n",
              "    </tr>\n",
              "  </tbody>\n",
              "</table>\n",
              "<p>238838 rows × 5 columns</p>\n",
              "</div>"
            ],
            "text/plain": [
              "        State_Name  Crop_Year  Season      Crop  ProductionPerArea\n",
              "0              0.0  -1.140834     0.2  0.009615          -0.049381\n",
              "1              0.0  -1.140834     0.2  0.625000          -0.050711\n",
              "2              0.0  -1.140834     0.2  0.769231          -0.047496\n",
              "3              0.0  -1.140834     0.8  0.048077          -0.046895\n",
              "4              0.0  -1.140834     0.8  0.173077          -0.051039\n",
              "...            ...        ...     ...       ...                ...\n",
              "246086         1.0   1.672975     0.6  0.769231          -0.048139\n",
              "246087         1.0   1.672975     0.6  0.836538          -0.050421\n",
              "246088         1.0   1.672975     0.8  0.865385           0.009581\n",
              "246089         1.0   1.672975     1.0  0.769231          -0.048717\n",
              "246090         1.0   1.672975     1.0  0.836538          -0.050707\n",
              "\n",
              "[238838 rows x 5 columns]"
            ]
          },
          "metadata": {},
          "execution_count": 8
        }
      ]
    },
    {
      "cell_type": "code",
      "metadata": {
        "id": "zPW9kPllZttA"
      },
      "source": [
        "from sklearn.model_selection import train_test_split\n",
        "df_small = df_input\n",
        "df_small.columns.name = None\n",
        "df=df_small\n",
        "x_train, x_test, y_train, y_test = train_test_split(df.iloc[:,:-1], df.iloc[:,-1], test_size=0.33, random_state=42)"
      ],
      "execution_count": 9,
      "outputs": []
    },
    {
      "cell_type": "code",
      "metadata": {
        "id": "rLIV-y_raTsL"
      },
      "source": [
        "from sklearn.metrics import mean_squared_error\n",
        "def classify(clf,x_train,x_test,y_train,y_test):\n",
        "  clf.fit(x_train,y_train)\n",
        "  y_pred = clf.predict(x_test)\n",
        "  print(y_pred)\n",
        "  y_train_pred = clf.predict(x_train)\n",
        "  print(mean_squared_error(y_train, y_train_pred))\n",
        "  print(mean_squared_error(y_test, y_pred))\n",
        "  y_pred = np.array(y_pred)\n",
        "  y_test = np.array(y_test)\n",
        "  for i in range(y_test.size):\n",
        "    if(y_test[i]>15):\n",
        "      print(i,y_test[i],y_pred[i])"
      ],
      "execution_count": 10,
      "outputs": []
    },
    {
      "cell_type": "code",
      "metadata": {
        "id": "UUFesFqCbCFo",
        "colab": {
          "base_uri": "https://localhost:8080/"
        },
        "outputId": "e92f3273-26e1-43c5-866c-7ae785649e78"
      },
      "source": [
        "from sklearn.ensemble import RandomForestRegressor\n",
        "regresser = RandomForestRegressor(n_estimators = 10 ,random_state = 0)\n",
        "print(\"\\t\\t\\t random-forest classifier\")\n",
        "classify(regresser,x_train,x_test,y_train,y_test)"
      ],
      "execution_count": 11,
      "outputs": [
        {
          "output_type": "stream",
          "name": "stdout",
          "text": [
            "\t\t\t random-forest classifier\n",
            "[ 0.01718748 -0.05048732 -0.04854881 ... -0.05052442 -0.02678204\n",
            " -0.04799629]\n",
            "0.07646626095892917\n",
            "0.08404042773276447\n",
            "1016 18.048157387148553 10.790696503551965\n",
            "2301 19.178733980603386 16.569626947481094\n",
            "3379 15.733750015519044 17.8666979937099\n",
            "4548 15.579384195135523 13.780943667245884\n",
            "6874 15.47750351558056 14.192251040871133\n",
            "7157 20.0614115921627 14.192251040871133\n",
            "7629 31.847673359127906 7.916022847728522\n",
            "8261 15.580982798702802 14.65579092090132\n",
            "8562 16.657244942664597 16.569626947481094\n",
            "13028 16.952992858209107 14.085195033722508\n",
            "14294 16.826117132638228 11.249560264553674\n",
            "15834 21.914204130639654 14.192251040871133\n",
            "16764 22.812465342203193 11.26670951031566\n",
            "18342 24.3111404078194 16.97968970598324\n",
            "19189 16.657625219165993 11.249560264553674\n",
            "19923 16.88143553172169 14.085195033722508\n",
            "21507 17.630229481228305 16.569626947481094\n",
            "21747 15.447274426707304 10.83136501420579\n",
            "21865 40.126543306457734 19.038918852125423\n",
            "22908 16.02064104619277 7.916022847728522\n",
            "23892 29.588588544964956 9.92749141684931\n",
            "25013 15.754392027211955 15.619578620291671\n",
            "27974 20.47691760701401 8.588927893991709\n",
            "29380 16.52484766252783 10.422947856026026\n",
            "29966 15.291221044739844 15.619578620291671\n",
            "34458 20.69359529766436 16.97968970598324\n",
            "35314 18.74840486722219 14.65579092090132\n",
            "35970 15.680549816806499 14.65579092090132\n",
            "37570 16.727246269980327 14.65579092090132\n",
            "41506 23.982033738424576 13.228486923148441\n",
            "44292 17.683813002508245 15.81493481210146\n",
            "47966 17.683813002508245 15.81493481210146\n",
            "50892 25.473167815089816 14.192251040871133\n",
            "52665 90.46997470367923 87.28610692992827\n",
            "52849 17.506108501432628 14.65579092090132\n",
            "54356 98.90891477813436 87.28610692992827\n",
            "55422 21.846632979644802 11.249560264553674\n",
            "55687 23.155816258799803 16.569626947481094\n",
            "61788 18.863112016407317 16.569626947481094\n",
            "62915 17.35831907123842 11.249560264553674\n",
            "65083 16.606568023488332 15.81493481210146\n",
            "66129 20.684096711104235 16.97968970598324\n",
            "66341 16.342871696226204 13.426701649840663\n",
            "66644 19.09761476906246 11.249560264553674\n",
            "68075 26.842422013655657 5.590258047064908\n",
            "75783 17.984915030268688 8.820016831459574\n",
            "76678 26.273504225041062 19.038918852125423\n",
            "77067 18.31256266974487 16.569626947481094\n",
            "77413 16.342912174806795 12.775777619546558\n",
            "78493 17.771230774147757 14.192251040871133\n"
          ]
        }
      ]
    },
    {
      "cell_type": "code",
      "metadata": {
        "id": "pYxMkyz-P8Rg"
      },
      "source": [
        "regresser.get_params(\"true\")"
      ],
      "execution_count": null,
      "outputs": []
    },
    {
      "cell_type": "code",
      "metadata": {
        "id": "FQ5PqbKvufyO",
        "colab": {
          "base_uri": "https://localhost:8080/"
        },
        "outputId": "c42ef544-58c4-44aa-e7c7-dad616026967"
      },
      "source": [
        "#linear regression\n",
        "from sklearn.linear_model import LinearRegression\n",
        "reg = LinearRegression()\n",
        "print(\"\\t\\t\\t linear-regression classifier\")\n",
        "classify(reg,x_train,x_test,y_train,y_test)"
      ],
      "execution_count": null,
      "outputs": [
        {
          "output_type": "stream",
          "name": "stdout",
          "text": [
            "\t\t\t linear-regression classifier\n",
            "[ 0.05215216  0.01925075  0.056664   ... -0.11000213 -0.09175651\n",
            "  0.05040157]\n",
            "1.1102781920460332\n",
            "0.7541618347330906\n",
            "1016 18.048157387148553 0.1894157364236274\n",
            "2301 19.178733980603386 0.16451249230592974\n",
            "3379 15.733750015519044 0.14278598796793596\n",
            "4548 15.579384195135523 0.17905418374970355\n",
            "6874 15.47750351558056 0.20128169722701184\n",
            "7157 20.0614115921627 0.20128169722701184\n",
            "7629 31.847673359127906 0.16083750480994535\n",
            "8261 15.580982798702802 0.14596134703612285\n",
            "8562 16.657244942664597 0.16451249230592974\n",
            "13028 16.952992858209107 0.194930979090638\n",
            "14294 16.826117132638228 0.17086321044230351\n",
            "15834 21.914204130639654 0.20128169722701184\n",
            "16764 22.812465342203193 0.16284154136720336\n",
            "18342 24.3111404078194 0.1981063381588249\n",
            "19189 16.657625219165993 0.17086321044230351\n",
            "19923 16.88143553172169 0.194930979090638\n",
            "21507 17.630229481228305 0.16451249230592974\n",
            "21747 15.447274426707304 0.18624037735544052\n",
            "21865 40.126543306457734 0.20445705629519872\n",
            "22908 16.02064104619277 0.16083750480994535\n",
            "23892 29.588588544964956 0.17036358201450602\n",
            "25013 15.754392027211955 0.14746575516558336\n",
            "27974 20.47691760701401 0.16718822294631913\n",
            "29380 16.52484766252783 0.17270346561332978\n",
            "29966 15.291221044739844 0.14746575516558336\n",
            "34458 20.69359529766436 0.1981063381588249\n",
            "35314 18.74840486722219 0.14596134703612285\n",
            "35970 15.680549816806499 0.14596134703612285\n",
            "37570 16.727246269980327 0.14596134703612285\n",
            "41506 23.982033738424576 0.17236761857176403\n",
            "44292 17.683813002508245 0.16334255050651786\n",
            "47966 17.683813002508245 0.16334255050651786\n",
            "50892 25.473167815089816 0.20128169722701184\n",
            "52665 90.46997470367923 0.07320834714319627\n",
            "52849 17.506108501432628 0.14596134703612285\n",
            "54356 98.90891477813436 0.07320834714319627\n",
            "55422 21.846632979644802 0.17086321044230351\n",
            "55687 23.155816258799803 0.16451249230592974\n",
            "61788 18.863112016407317 0.16451249230592974\n",
            "62915 17.35831907123842 0.17086321044230351\n",
            "65083 16.606568023488332 0.16334255050651786\n",
            "66129 20.684096711104235 0.1981063381588249\n",
            "66341 16.342871696226204 0.1501401050944558\n",
            "66644 19.09761476906246 0.17086321044230351\n",
            "68075 26.842422013655657 0.1767143001508798\n",
            "75783 17.984915030268688 0.18306501828725363\n",
            "76678 26.273504225041062 0.20445705629519872\n",
            "77067 18.31256266974487 0.16451249230592974\n",
            "77413 16.342912174806795 0.15649082323082958\n",
            "78493 17.771230774147757 0.20128169722701184\n"
          ]
        }
      ]
    },
    {
      "cell_type": "code",
      "metadata": {
        "id": "EA5ikFezrC8K"
      },
      "source": [
        "json_params = {}\n",
        "json_params['labels'] = labels_dict\n",
        "json_params['scaling'] = scaling_dict"
      ],
      "execution_count": 12,
      "outputs": []
    },
    {
      "cell_type": "code",
      "metadata": {
        "id": "u7nIyMmNMaWI",
        "colab": {
          "base_uri": "https://localhost:8080/"
        },
        "outputId": "ff56e0d2-ba42-4871-eafb-fb9f458b7856"
      },
      "source": [
        "json_params"
      ],
      "execution_count": 13,
      "outputs": [
        {
          "output_type": "execute_result",
          "data": {
            "text/plain": [
              "{'labels': {'Crop': ['Arcanut (Processed)',\n",
              "   'Arecanut',\n",
              "   'Arhar/Tur',\n",
              "   'Atcanut (Raw)',\n",
              "   'Bajra',\n",
              "   'Banana',\n",
              "   'Barley',\n",
              "   'Bean',\n",
              "   'Beans & Mutter(Vegetable)',\n",
              "   'Bhindi',\n",
              "   'Bitter Gourd',\n",
              "   'Black pepper',\n",
              "   'Blackgram',\n",
              "   'Bottle Gourd',\n",
              "   'Brinjal',\n",
              "   'Cabbage',\n",
              "   'Cardamom',\n",
              "   'Carrot',\n",
              "   'Cashewnut',\n",
              "   'Cashewnut Processed',\n",
              "   'Cashewnut Raw',\n",
              "   'Castor seed',\n",
              "   'Cauliflower',\n",
              "   'Citrus Fruit',\n",
              "   'Coconut ',\n",
              "   'Coffee',\n",
              "   'Colocosia',\n",
              "   'Cond-spcs other',\n",
              "   'Coriander',\n",
              "   'Cotton(lint)',\n",
              "   'Cowpea(Lobia)',\n",
              "   'Drum Stick',\n",
              "   'Dry chillies',\n",
              "   'Dry ginger',\n",
              "   'Garlic',\n",
              "   'Ginger',\n",
              "   'Gram',\n",
              "   'Grapes',\n",
              "   'Groundnut',\n",
              "   'Guar seed',\n",
              "   'Horse-gram',\n",
              "   'Jack Fruit',\n",
              "   'Jobster',\n",
              "   'Jowar',\n",
              "   'Jute',\n",
              "   'Jute & mesta',\n",
              "   'Kapas',\n",
              "   'Khesari',\n",
              "   'Korra',\n",
              "   'Lemon',\n",
              "   'Lentil',\n",
              "   'Linseed',\n",
              "   'Maize',\n",
              "   'Mango',\n",
              "   'Masoor',\n",
              "   'Mesta',\n",
              "   'Moong(Green Gram)',\n",
              "   'Moth',\n",
              "   'Niger seed',\n",
              "   'Oilseeds total',\n",
              "   'Onion',\n",
              "   'Orange',\n",
              "   'Other  Rabi pulses',\n",
              "   'Other Cereals & Millets',\n",
              "   'Other Fresh Fruits',\n",
              "   'Other Kharif pulses',\n",
              "   'Other Vegetables',\n",
              "   'Paddy',\n",
              "   'Papaya',\n",
              "   'Peas & beans (Pulses)',\n",
              "   'Perilla',\n",
              "   'Pineapple',\n",
              "   'Pome Fruit',\n",
              "   'Pome Granet',\n",
              "   'Potato',\n",
              "   'Pulses total',\n",
              "   'Ragi',\n",
              "   'Rajmash Kholar',\n",
              "   'Rapeseed &Mustard',\n",
              "   'Redish',\n",
              "   'Rice',\n",
              "   'Ricebean (nagadal)',\n",
              "   'Rubber',\n",
              "   'Safflower',\n",
              "   'Samai',\n",
              "   'Sannhamp',\n",
              "   'Sapota',\n",
              "   'Sesamum',\n",
              "   'Small millets',\n",
              "   'Soyabean',\n",
              "   'Sugarcane',\n",
              "   'Sunflower',\n",
              "   'Sweet potato',\n",
              "   'Tapioca',\n",
              "   'Tea',\n",
              "   'Tobacco',\n",
              "   'Tomato',\n",
              "   'Total foodgrain',\n",
              "   'Turmeric',\n",
              "   'Turnip',\n",
              "   'Urad',\n",
              "   'Varagu',\n",
              "   'Wheat',\n",
              "   'other misc. pulses',\n",
              "   'other oilseeds'],\n",
              "  'Season': ['Autumn     ',\n",
              "   'Kharif     ',\n",
              "   'Rabi       ',\n",
              "   'Summer     ',\n",
              "   'Whole Year ',\n",
              "   'Winter     '],\n",
              "  'State_Name': ['Andaman and Nicobar Islands',\n",
              "   'Andhra Pradesh',\n",
              "   'Arunachal Pradesh',\n",
              "   'Assam',\n",
              "   'Bihar',\n",
              "   'Chandigarh',\n",
              "   'Chhattisgarh',\n",
              "   'Dadra and Nagar Haveli',\n",
              "   'Goa',\n",
              "   'Gujarat',\n",
              "   'Haryana',\n",
              "   'Himachal Pradesh',\n",
              "   'Jammu and Kashmir ',\n",
              "   'Jharkhand',\n",
              "   'Karnataka',\n",
              "   'Kerala',\n",
              "   'Madhya Pradesh',\n",
              "   'Maharashtra',\n",
              "   'Manipur',\n",
              "   'Meghalaya',\n",
              "   'Mizoram',\n",
              "   'Nagaland',\n",
              "   'Odisha',\n",
              "   'Puducherry',\n",
              "   'Punjab',\n",
              "   'Rajasthan',\n",
              "   'Sikkim',\n",
              "   'Tamil Nadu',\n",
              "   'Telangana ',\n",
              "   'Tripura',\n",
              "   'Uttar Pradesh',\n",
              "   'Uttarakhand',\n",
              "   'West Bengal']},\n",
              " 'scaling': {'Crop': [0, 104],\n",
              "  'Crop_Year': [2005.6761779951264, 4.975461387034537],\n",
              "  'ProductionPerArea': [42.26340712371502, 823.5631416601492],\n",
              "  'Season': [0, 5],\n",
              "  'State_Name': [0, 32]}}"
            ]
          },
          "metadata": {},
          "execution_count": 13
        }
      ]
    }
  ]
}